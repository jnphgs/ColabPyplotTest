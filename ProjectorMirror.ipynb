{
  "nbformat": 4,
  "nbformat_minor": 0,
  "metadata": {
    "colab": {
      "name": "ProjectorMirror.ipynb",
      "version": "0.3.2",
      "provenance": [],
      "collapsed_sections": [],
      "include_colab_link": true
    },
    "kernelspec": {
      "name": "python3",
      "display_name": "Python 3"
    }
  },
  "cells": [
    {
      "cell_type": "markdown",
      "metadata": {
        "id": "view-in-github",
        "colab_type": "text"
      },
      "source": [
        "<a href=\"https://colab.research.google.com/github/jnphgs/ProjectorMirror/blob/master/ProjectorMirror.ipynb\" target=\"_parent\"><img src=\"https://colab.research.google.com/assets/colab-badge.svg\" alt=\"Open In Colab\"/></a>"
      ]
    },
    {
      "cell_type": "code",
      "metadata": {
        "id": "AO_edXFEMi8p",
        "colab_type": "code",
        "outputId": "399fb079-ec20-4f09-a81b-aee0622ff786",
        "colab": {
          "base_uri": "https://localhost:8080/",
          "height": 269
        }
      },
      "source": [
        "import matplotlib.pyplot as plt\n",
        "import numpy as np\n",
        "\n",
        "x = np.arange(-200, 200, 1)\n",
        "\n",
        "y = x * 2\n",
        "\n",
        "poly = plt.Polygon(((0, 0), (100, 100), (-100, 100)), ec='#000000', fill=False)\n",
        "fig = plt.figure()\n",
        "ax = plt.axes()\n",
        "ax.add_patch(poly)\n",
        "\n",
        "\n",
        "plt.ylim((-100, 400))\n",
        "plt.axis('equal')\n",
        "plt.grid(color='#aaaaaa', linestyle='-', linewidth=1)\n",
        "\n",
        "plt.plot(x, y)\n",
        "\n",
        "plt.show()"
      ],
      "execution_count": 0,
      "outputs": [
        {
          "output_type": "display_data",
          "data": {
            "image/png": "[encoded data removed]",
            "text/plain": [
              "<Figure size 432x288 with 1 Axes>"
            ]
          },
          "metadata": {
            "tags": []
          }
        }
      ]
    }
  ]
}