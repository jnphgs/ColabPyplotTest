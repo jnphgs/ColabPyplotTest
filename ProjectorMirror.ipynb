{
  "nbformat": 4,
  "nbformat_minor": 0,
  "metadata": {
    "colab": {
      "name": "ProjectorMirror.ipynb",
      "version": "0.3.2",
      "provenance": [],
      "collapsed_sections": [],
      "include_colab_link": true
    },
    "kernelspec": {
      "name": "python3",
      "display_name": "Python 3"
    }
  },
  "cells": [
    {
      "cell_type": "markdown",
      "metadata": {
        "id": "view-in-github",
        "colab_type": "text"
      },
      "source": [
        "<a href=\"https://colab.research.google.com/github/jnphgs/ProjectorMirror/blob/master/ProjectorMirror.ipynb\" target=\"_parent\"><img src=\"https://colab.research.google.com/assets/colab-badge.svg\" alt=\"Open In Colab\"/></a>"
      ]
    },
    {
      "cell_type": "code",
      "metadata": {
        "id": "AO_edXFEMi8p",
        "colab_type": "code",
        "outputId": "2a0e20e5-9fc5-4bc2-c4fa-8fae5d9076a2",
        "colab": {
          "base_uri": "https://localhost:8080/",
          "height": 283
        }
      },
      "source": [
        "import matplotlib.pyplot as plt\n",
        "import numpy as np\n",
        "\n",
        "minx = -400\n",
        "maxx = 400\n",
        "miny = -100\n",
        "maxy = 500\n",
        "\n",
        "fig = plt.figure()\n",
        "\n",
        "ax = fig.add_subplot(111)\n",
        "ax.set_xlabel('Pixel X-coordinate')\n",
        "ax.set_ylabel('Pixel Y-coordinate')\n",
        "for i in np.arange(minx, maxx, 100):\n",
        "    ax.axvline(i, color='k')\n",
        "for i in np.arange(miny, maxy, 100):\n",
        "    ax.axhline(i, color='k')\n",
        "\n",
        "\n",
        "for a in (ax, ax_twiny, ax_twinx):\n",
        "    a.set_xlim(minx, maxx)\n",
        "    a.set_ylim(miny, maxy)\n",
        "    a.set_aspect('equal')\n",
        "    \n",
        "    \n",
        "plt.show()"
      ],
      "execution_count": 21,
      "outputs": [
        {
          "output_type": "display_data",
          "data": {
            "image/png": "[encoded data removed]",
            "text/plain": [
              "<Figure size 432x288 with 1 Axes>"
            ]
          },
          "metadata": {
            "tags": []
          }
        }
      ]
    }
  ]
}