{
  "nbformat": 4,
  "nbformat_minor": 0,
  "metadata": {
    "colab": {
      "name": "ProjectorMirror.ipynb",
      "version": "0.3.2",
      "provenance": [],
      "collapsed_sections": [],
      "include_colab_link": true
    },
    "kernelspec": {
      "name": "python3",
      "display_name": "Python 3"
    }
  },
  "cells": [
    {
      "cell_type": "markdown",
      "metadata": {
        "id": "view-in-github",
        "colab_type": "text"
      },
      "source": [
        "<a href=\"https://colab.research.google.com/github/jnphgs/ProjectorMirror/blob/master/ProjectorMirror.ipynb\" target=\"_parent\"><img src=\"https://colab.research.google.com/assets/colab-badge.svg\" alt=\"Open In Colab\"/></a>"
      ]
    },
    {
      "cell_type": "code",
      "metadata": {
        "id": "AO_edXFEMi8p",
        "colab_type": "code",
        "outputId": "80336318-023d-40b2-f447-fd2b610ae285",
        "colab": {
          "base_uri": "https://localhost:8080/",
          "height": 105
        }
      },
      "source": [
        "import matplotlib.pyplot as plt\n",
        "import numpy as np\n",
        "\n",
        "x = np.arange(-500, 500, 1)\n",
        "y = 0.2*x+50\n",
        "\n",
        "plt.plot(x, y)\n",
        "\n",
        "#x軸とy軸を同じスケールで\n",
        "plt.axis('scaled')\n",
        "\n",
        "#目盛りを刻む間隔を調整(1刻みならlist(range(...))で十分ですが、\n",
        "#対数目盛りにしたいときなどラムダ式をいじってください)\n",
        "plt.xticks(list(map(lambda x: x, np.arange(-10,3))))\n",
        "plt.yticks(list(map(lambda y: y, np.arange(0, 8))))\n",
        "\n",
        "#グリッド表示\n",
        "plt.grid(linewidth=0.5)\n",
        "\n",
        "#外枠をすべて非表示\n",
        "plt.gca().spines['top'].set_visible(False)\n",
        "plt.gca().spines['bottom'].set_visible(False)\n",
        "plt.gca().spines['left'].set_visible(False)\n",
        "plt.gca().spines['right'].set_visible(False)\n",
        "\n",
        "#目盛りの表示設定\n",
        "plt.tick_params(\n",
        "    axis='both',\n",
        "    which='both',\n",
        "    left=False,           #外枠目盛りを非表示\n",
        "    bottom=False, \n",
        "    labelleft=False,      #外枠目盛りの数字を非表示\n",
        "    labelbottom=False\n",
        ")\n",
        "\n",
        "#各形式で出力\n",
        "\n",
        "\n",
        "plt.show()\n"
      ],
      "execution_count": 14,
      "outputs": [
        {
          "output_type": "display_data",
          "data": {
            "image/png": "[encoded data removed]",
            "text/plain": [
              "<Figure size 432x288 with 1 Axes>"
            ]
          },
          "metadata": {
            "tags": []
          }
        }
      ]
    }
  ]
}